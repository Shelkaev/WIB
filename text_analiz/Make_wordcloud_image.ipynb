{
 "cells": [
  {
   "cell_type": "code",
   "execution_count": 67,
   "metadata": {},
   "outputs": [
    {
     "name": "stderr",
     "output_type": "stream",
     "text": [
      "[nltk_data] Downloading package wordnet to /home/artem/nltk_data...\n",
      "[nltk_data]   Package wordnet is already up-to-date!\n",
      "[nltk_data] Downloading package stopwords to /home/artem/nltk_data...\n",
      "[nltk_data]   Package stopwords is already up-to-date!\n"
     ]
    }
   ],
   "source": [
    "import re\n",
    "import numpy as np\n",
    "import pickle\n",
    "\n",
    "import pymorphy2\n",
    "\n",
    "from wordcloud import WordCloud\n",
    "\n",
    "# Gensim\n",
    "import gensim\n",
    "\n",
    "\n",
    "import nltk\n",
    "from nltk.corpus import stopwords \n",
    "nltk.download('wordnet')\n",
    "nltk.download('stopwords')\n",
    "\n",
    "\n",
    "\n",
    "import warnings\n",
    "warnings.filterwarnings(\"ignore\",category=DeprecationWarning)\n",
    "import pymorphy2"
   ]
  },
  {
   "cell_type": "code",
   "execution_count": 68,
   "metadata": {},
   "outputs": [],
   "source": [
    "prepare = False"
   ]
  },
  {
   "cell_type": "code",
   "execution_count": 69,
   "metadata": {},
   "outputs": [],
   "source": [
    "#Приведение слов в нормальную форму при помощи pymorphy2"
   ]
  },
  {
   "cell_type": "code",
   "execution_count": 70,
   "metadata": {},
   "outputs": [],
   "source": [
    "morph = pymorphy2.MorphAnalyzer(lang='uk')\n",
    "f = open('News.txt')\n",
    "p = morph.parse(f.read())[0]\n",
    "data_normal_words = p.normal_form\n",
    "\n",
    "with open('News_normalized.txt', 'w') as file:\n",
    "       file.write(data_normal_words)\n",
    "\n",
    "f.close()\n"
   ]
  },
  {
   "cell_type": "code",
   "execution_count": 71,
   "metadata": {},
   "outputs": [
    {
     "name": "stdout",
     "output_type": "stream",
     "text": [
      "'u.s. presidents george w. bush and barack obama, when first elected, both thought they could establish a rapport with russian leader vladimir putin and dramatically improve u.s.-russian relations.', 'their appraisal of putin swiftly changed.', 'when asked his impression of putin after his first fac\n"
     ]
    }
   ],
   "source": [
    "print(data_normal_words[:300])"
   ]
  },
  {
   "cell_type": "code",
   "execution_count": 72,
   "metadata": {},
   "outputs": [],
   "source": [
    "#Создаем словарь мусорных слов"
   ]
  },
  {
   "cell_type": "code",
   "execution_count": 73,
   "metadata": {},
   "outputs": [],
   "source": [
    "stop_words = stopwords.words('english')\n",
    "stop_words = ['xa', '.', 'one', 'first', 'many', 'well', 'will', \n",
    "              'need','russian', 'russia', 'now', 'know', 'ha', 'wa', \n",
    "              'said','new', 'time', 'make', 'including', 'two', \n",
    "              'even', 'think', 'say', 'take', 'part', 'day',\n",
    "              'long', 'much', 'may', 'back', 'says', 'year',\n",
    "              'around', 'news', 'without', 'data']\n",
    "stop_words.extend(['from', 'subject', 're', 'edu', 'use'])\n",
    "stop_words = set(stop_words) "
   ]
  },
  {
   "cell_type": "code",
   "execution_count": 74,
   "metadata": {},
   "outputs": [],
   "source": [
    "def clean(text):\n",
    "    # Remove new line characters\n",
    "    text = re.sub('\\s+', ' ', text)\n",
    "    # Remove distracting single quotes\n",
    "    text = re.sub(\"\\'\", \"\", text)\n",
    "    return text\n",
    "\n",
    "\n",
    "def doc_to_words(doc, stop_words, lemma):\n",
    "    stop_words = set(stop_words)\n",
    "    # remove stop words and punctuation\n",
    "    words = [w for w in gensim.utils.simple_preprocess(str(doc), deacc=True) if w not in stop_words]\n",
    "    return words"
   ]
  },
  {
   "cell_type": "code",
   "execution_count": 75,
   "metadata": {},
   "outputs": [],
   "source": [
    "# Очищаем данные по словарю"
   ]
  },
  {
   "cell_type": "code",
   "execution_count": 76,
   "metadata": {},
   "outputs": [],
   "source": [
    "if prepare:\n",
    "    file = open('News_normalized.txt') #News.txt\n",
    "    # Convert to list\n",
    "    data = file\n",
    "    data = [clean(t) for t in data]\n",
    "    data_clean_words = [doc_to_words(t, stop_words, lemma) for t in data]\n",
    "    file.close()\n",
    "    with open('Bag_words_news.pkl', 'wb') as f:\n",
    "        pickle.dump(data_clean_words, f)\n",
    "else:\n",
    "    with open('Bag_words_news.pkl', 'rb') as f:\n",
    "        data_clean_words= pickle.load(f)\n",
    "        "
   ]
  },
  {
   "cell_type": "code",
   "execution_count": 77,
   "metadata": {},
   "outputs": [
    {
     "name": "stdout",
     "output_type": "stream",
     "text": [
      "['presidents', 'george', 'bush', 'and', 'barack', 'obama', 'when', 'elected', 'both', 'thought']\n"
     ]
    }
   ],
   "source": [
    "print(data_clean_words[0][:10])"
   ]
  },
  {
   "cell_type": "code",
   "execution_count": 78,
   "metadata": {},
   "outputs": [],
   "source": [
    "#Добавляем биграмы"
   ]
  },
  {
   "cell_type": "code",
   "execution_count": 79,
   "metadata": {},
   "outputs": [],
   "source": [
    "if prepare:\n",
    "    # Build the bigram and trigram models\n",
    "    bigram = gensim.models.Phrases(data_clean_words, min_count=5, threshold=100) # higher threshold fewer phrases.\n",
    "    \n",
    "    # Faster way to get a sentence clubbed as a trigram/bigram\n",
    "    bigram_mod = gensim.models.phrases.Phraser(bigram)\n",
    "    bigram_mod.save('bigram_mod.pkl')\n",
    "    data_words_bigrams = [bigram_mod[w] for w in data_clean_words]\n",
    "    with open('bigrams.pkl', 'wb') as f:\n",
    "        pickle.dump(data_words_bigrams, f)\n",
    "\n",
    "else:\n",
    "    bigram_mod = gensim.models.Phrases.load('bigram_mod.pkl')\n",
    "    \n",
    "    with open('bigrams.pkl', 'rb') as f:\n",
    "        data_words_bigrams = pickle.load(f)"
   ]
  },
  {
   "cell_type": "code",
   "execution_count": 80,
   "metadata": {},
   "outputs": [
    {
     "name": "stdout",
     "output_type": "stream",
     "text": [
      "['presidents', 'george', 'bush', 'and', 'barack_obama', 'when', 'elected', 'both', 'thought', 'they', 'could', 'establish', 'rapport', 'with', 'leader', 'vladimir_putin', 'and', 'dramatically', 'improve', 'relations', 'their', 'appraisal', 'of', 'putin', 'swiftly', 'changed', 'when', 'asked', 'his', 'impression', 'of', 'putin', 'after', 'his', 'face', 'to', 'face', 'meeting', 'george', 'bush', 'looked', 'the', 'man', 'in', 'the', 'eye', 'found', 'him', 'very', 'straightforward', 'and', 'trustworthy', 'was', 'able', 'to', 'get', 'sense', 'of', 'his', 'soul', 'obama', 'eight', 'years', 'later', 'openly', 'sought', 'reset', 'in', 'relations', 'only', 'to', 'see', 'his', 'hopes', 'dashed', 'finally', 'with', 'annexation', 'of', 'the', 'ukrainian', 'peninsula', 'crimea', 'in', 'joe_biden', 'who', 'as', 'obama', 'vice_president', 'supported', 'the', 'reset', 'strategy', 'is', 'unlikely', 'to', 'follow', 'the', 'example', 'of']\n"
     ]
    }
   ],
   "source": [
    "print(data_words_bigrams[0][:100])"
   ]
  },
  {
   "cell_type": "code",
   "execution_count": 81,
   "metadata": {},
   "outputs": [],
   "source": [
    "#Склейка текста"
   ]
  },
  {
   "cell_type": "code",
   "execution_count": 82,
   "metadata": {},
   "outputs": [
    {
     "name": "stdout",
     "output_type": "stream",
     "text": [
      "presidents george bush and barack_obama when elected both thought they could establish rapport with leader vladimir_putin and dramatically improve relations their appraisal of putin swiftly changed when asked his impression of putin after his face to face meeting george bush looked the man in the ey\n"
     ]
    }
   ],
   "source": [
    "unit_text = ''\n",
    "for i in range(len(data_words_bigrams[0])):\n",
    "    unit_text += data_words_bigrams[0][i] + ' '\n",
    "    \n",
    "print(unit_text[:300])"
   ]
  },
  {
   "cell_type": "code",
   "execution_count": 83,
   "metadata": {},
   "outputs": [],
   "source": [
    "#Очистка от предлогов "
   ]
  },
  {
   "cell_type": "code",
   "execution_count": 84,
   "metadata": {},
   "outputs": [
    {
     "name": "stdout",
     "output_type": "stream",
     "text": [
      "presidents george bush and barack_obama when elected both thought they could establish rapport with leader vladimir_putin and dramatically improve relations their appraisal putin swiftly changed when asked his impression putin after his face face meeting george bush looked the man the eye found him \n"
     ]
    }
   ],
   "source": [
    "pat = r'\\b[a-zA-Z_]{3,}\\b'\n",
    "re_text = re.findall(pat, unit_text)\n",
    "re_unit_text = ''\n",
    "for i in range(len(re_text)):\n",
    "    re_unit_text += re_text[i] + ' '\n",
    "    \n",
    "print(re_unit_text[:300])"
   ]
  },
  {
   "cell_type": "code",
   "execution_count": 86,
   "metadata": {},
   "outputs": [
    {
     "data": {
      "image/png": "[encoded data removed]",
      "text/plain": [
       "<PIL.Image.Image image mode=RGB size=400x200 at 0x7F7DB4A91B20>"
      ]
     },
     "execution_count": 86,
     "metadata": {},
     "output_type": "execute_result"
    }
   ],
   "source": [
    "wordcloud = WordCloud(background_color='black', max_words=50)\n",
    "wordcloud = wordcloud.generate(re_unit_text)\n",
    "wordcloud.to_file('Top_50_news.png')\n",
    "wordcloud.to_image() "
   ]
  },
  {
   "cell_type": "code",
   "execution_count": null,
   "metadata": {},
   "outputs": [],
   "source": []
  }
 ],
 "metadata": {
  "kernelspec": {
   "display_name": "Python 3",
   "language": "python",
   "name": "python3"
  },
  "language_info": {
   "codemirror_mode": {
    "name": "ipython",
    "version": 3
   },
   "file_extension": ".py",
   "mimetype": "text/x-python",
   "name": "python",
   "nbconvert_exporter": "python",
   "pygments_lexer": "ipython3",
   "version": "3.8.5"
  }
 },
 "nbformat": 4,
 "nbformat_minor": 4
}
